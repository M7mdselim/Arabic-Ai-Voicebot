{
 "cells": [
  {
   "cell_type": "code",
   "execution_count": 2,
   "metadata": {},
   "outputs": [
    {
     "name": "stdout",
     "output_type": "stream",
     "text": [
      "C:\\Users\\z_sal\\klaam\n"
     ]
    }
   ],
   "source": [
    "# !git clone https://github.com/ARBML/klaam.git\n",
    "# %cd klaam"
   ]
  },
  {
   "cell_type": "code",
   "execution_count": 24,
   "metadata": {},
   "outputs": [
    {
     "name": "stdout",
     "output_type": "stream",
     "text": [
      "start recording!\n",
      "recording done\n"
     ]
    },
    {
     "name": "stderr",
     "output_type": "stream",
     "text": [
      "Special tokens have been added in the vocabulary, make sure the associated word embeddings are fine-tuned or trained.\n"
     ]
    },
    {
     "name": "stdout",
     "output_type": "stream",
     "text": [
      "Removing weight norm...\n",
      "Raw Text Sequence: ليفربول الانجليزي\n",
      "Phoneme Sequence: {l ii0 f r b uu0 l l aa n j l ii0 z ii0 sil}\n"
     ]
    }
   ],
   "source": [
    "\n",
    "try:\n",
    "    import Tkinter as tk\n",
    "    import tkMessageBox as mb\n",
    "except ImportError:\n",
    "    import tkinter as tk\n",
    "    import tkinter.messagebox as mb\n",
    "\n",
    "root = tk.Tk()\n",
    "root.geometry(\"500x300\")\n",
    "\n",
    "tk.Label(root, text=\"Arabic VoiceBot\", bg=\"goldenrod\", font=\"bold\").pack()\n",
    "tk.Label(root, text=\"\").pack()\n",
    "def play():\n",
    "    from pygame import mixer\n",
    "    import time\n",
    "    mixer.init() #Initialzing pyamge mixer\n",
    "\n",
    "    mixer.music.load('sample.wav') #Loading Music File\n",
    "\n",
    "    mixer.music.play() #Playing Music with Pygame\n",
    "\n",
    "    time.sleep(5)\n",
    "\n",
    "\n",
    "    mixer.music.stop()\n",
    "    mixer.music.unload()\n",
    "\n",
    "def Speechtotext():\n",
    "    import pyaudio\n",
    "    import wave\n",
    "\n",
    "    FRAMES_PER_BUFFER = 4800  #-> how many frames you will read pet one itiration\n",
    "    FORMAT = pyaudio.paInt16\n",
    "    CHANNELS = 1 #-> mono format sound coming for one direction npt like in  8D\n",
    "    RATE = 16000\n",
    "\n",
    "    p = pyaudio.PyAudio()\n",
    "    stream = p.open(channels=CHANNELS , rate = RATE ,format = FORMAT, input = True ,frames_per_buffer=FRAMES_PER_BUFFER )\n",
    "    print(\"start recording!\")\n",
    "    t = 5\n",
    "    frames= [] \n",
    "    for i in range(0 , int(RATE/FRAMES_PER_BUFFER*t)):\n",
    "        data = stream.read(FRAMES_PER_BUFFER)\n",
    "        frames.append(data)\n",
    "    stream.stop_stream()\n",
    "    print(\"recording done\")\n",
    "    stream.close()\n",
    "    p.terminate()\n",
    "    obj = wave.open(\"output.wav\" , \"wb\")\n",
    "    obj.setnchannels(CHANNELS)\n",
    "    obj.setsampwidth(p.get_sample_size(FORMAT))\n",
    "    obj.setframerate(RATE)\n",
    "    obj.writeframes(b\"\".join(frames))\n",
    "    obj.close()\n",
    "    mb.showinfo('showinfo', 'Thank you for Recording')\n",
    "\n",
    "def Texttospeech():\n",
    "    # CD klaam if u got unknown location error\n",
    "    # %cd klaam \n",
    "    from klaam import SpeechRecognition\n",
    "    Speechmodel = SpeechRecognition()\n",
    "    question = Speechmodel.transcribe('output.wav')\n",
    "\n",
    "    import yaml\n",
    "    from IPython.display import Audio \n",
    "    from transformers import BertForQuestionAnswering\n",
    "    from transformers import AutoTokenizer, AutoModelForQuestionAnswering\n",
    "    from transformers import pipeline\n",
    "\n",
    "    tokenizer = AutoTokenizer.from_pretrained(\"ZeyadAhmed/AraElectra-Arabic-SQuADv2-QA\")\n",
    "\n",
    "    model = AutoModelForQuestionAnswering.from_pretrained(\"ZeyadAhmed/AraElectra-Arabic-SQuADv2-QA\")\n",
    "\n",
    "    question = (question)\n",
    "    context = ('''\n",
    "     يعتبر لقب فخر العرب هو لقب يتم اطلاقة على افضل لاعبي كرة القدم العرب في الملاعب الاوروبية ولعل اول ما اطلق هذا اللقب تم اطلاقه على اللاعب المصري محمد صلاح لاعب نادي ليفربول الانجليزي والذي ساهم في تتويج الفريق الانجليزي بالعديد من البطولات بعد غياب دام لسنوات\n",
    "    ''')\n",
    "\n",
    "    tokenizer.encode(question , truncation=True ,padding = True)\n",
    "    tokenizer.encode('[SEP]')\n",
    "    result = pipeline(\"question-answering\" , model = model , tokenizer= tokenizer )\n",
    "\n",
    "    Answer = result({\n",
    "\n",
    "        'question' : question,\n",
    "        'context' : context\n",
    "    })\n",
    "\n",
    "    from klaam import TextToSpeech\n",
    "    from IPython.display import Audio\n",
    "\n",
    "    root_path = \"./\"\n",
    "    prepare_tts_model_path = \"cfgs/FastSpeech2/config/Arabic/preprocess.yaml\"\n",
    "    model_config_path = \"cfgs/FastSpeech2/config/Arabic/model.yaml\"\n",
    "    train_config_path = \"cfgs/FastSpeech2/config/Arabic/train.yaml\"\n",
    "    vocoder_config_path = \"cfgs/FastSpeech2/model_config/hifigan/config.json\"\n",
    "    speaker_pre_trained_path = \"data/model_weights/hifigan/generator_universal.pth.tar\"\n",
    "\n",
    "    model = TextToSpeech(prepare_tts_model_path, model_config_path, train_config_path, vocoder_config_path,\n",
    "                         speaker_pre_trained_path,root_path)\n",
    "\n",
    "    model.synthesize(Answer['answer'])\n",
    "    \n",
    "    \n",
    "    \n",
    "    \n",
    "\n",
    "tk.Button(root, text=\"Ask a Question \", bg=\"SkyBlue1\", command=Speechtotext).pack()\n",
    "tk.Label(root, text=\"\").pack()\n",
    "tk.Button(root, text=\"Answer\", bg=\"SkyBlue1\", command=lambda: [Texttospeech(), play()]).pack()\n",
    "tk.Label(root, text=\"\").pack()\n",
    "tk.Button(root, text=\"Hear The Voice Again if u Dont \", bg=\"SkyBlue1\", command=play).pack()\n",
    "\n",
    "root.mainloop()"
   ]
  },
  {
   "cell_type": "code",
   "execution_count": null,
   "metadata": {},
   "outputs": [],
   "source": []
  },
  {
   "cell_type": "code",
   "execution_count": null,
   "metadata": {},
   "outputs": [],
   "source": []
  }
 ],
 "metadata": {
  "accelerator": "GPU",
  "colab": {
   "collapsed_sections": [],
   "provenance": []
  },
  "kernelspec": {
   "display_name": "Python 3 (ipykernel)",
   "language": "python",
   "name": "python3"
  },
  "language_info": {
   "codemirror_mode": {
    "name": "ipython",
    "version": 3
   },
   "file_extension": ".py",
   "mimetype": "text/x-python",
   "name": "python",
   "nbconvert_exporter": "python",
   "pygments_lexer": "ipython3",
   "version": "3.8.8"
  }
 },
 "nbformat": 4,
 "nbformat_minor": 1
}
